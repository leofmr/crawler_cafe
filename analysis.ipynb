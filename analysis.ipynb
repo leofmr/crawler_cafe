{
 "cells": [
  {
   "cell_type": "code",
   "execution_count": 2,
   "id": "narrative-round",
   "metadata": {},
   "outputs": [],
   "source": [
    "import pickle\n",
    "import pandas as pd"
   ]
  },
  {
   "cell_type": "code",
   "execution_count": 18,
   "id": "athletic-windsor",
   "metadata": {},
   "outputs": [
    {
     "name": "stdout",
     "output_type": "stream",
     "text": [
      "{'empresa_nome': 'Tres Coracoes Alimentos S/A', 'empresa_href': 'https://www.dnb.com/business-directory/company-profiles.tres_coracoes_alimentos_s-a.b2294d60d2c3f9c5f520b6db82fa0791.html', 'local': 'Eusebio, Ceara,\\nBrazil', 'receita': '$677.42M'}\n",
      "\n",
      "{'empresa_nome': 'Cafe Tres Coracoes S/A', 'empresa_href': 'https://www.dnb.com/business-directory/company-profiles.cafe_tres_coracoes_s-a.fb90ecf8e77b2932a813ac9e9d4774cf.html', 'local': 'Santa Luzia, Minas Gerais,\\nBrazil', 'receita': '$271.06M'}\n",
      "\n"
     ]
    }
   ],
   "source": [
    "file_path = r'data\\test_scrap.pickle'\n",
    "with open(file_path, \"rb\") as file:\n",
    "    regs_data = pickle.load(file)\n",
    "\n",
    "for reg in regs_data[:2]:\n",
    "    print(reg)\n",
    "    print()"
   ]
  },
  {
   "cell_type": "code",
   "execution_count": 19,
   "id": "statewide-attack",
   "metadata": {},
   "outputs": [
    {
     "data": {
      "text/html": [
       "<div>\n",
       "<style scoped>\n",
       "    .dataframe tbody tr th:only-of-type {\n",
       "        vertical-align: middle;\n",
       "    }\n",
       "\n",
       "    .dataframe tbody tr th {\n",
       "        vertical-align: top;\n",
       "    }\n",
       "\n",
       "    .dataframe thead th {\n",
       "        text-align: right;\n",
       "    }\n",
       "</style>\n",
       "<table border=\"1\" class=\"dataframe\">\n",
       "  <thead>\n",
       "    <tr style=\"text-align: right;\">\n",
       "      <th></th>\n",
       "      <th>empresa_nome</th>\n",
       "      <th>empresa_href</th>\n",
       "      <th>local</th>\n",
       "      <th>receita</th>\n",
       "    </tr>\n",
       "  </thead>\n",
       "  <tbody>\n",
       "    <tr>\n",
       "      <th>0</th>\n",
       "      <td>Tres Coracoes Alimentos S/A</td>\n",
       "      <td>https://www.dnb.com/business-directory/company...</td>\n",
       "      <td>Eusebio, Ceara,\\nBrazil</td>\n",
       "      <td>$677.42M</td>\n",
       "    </tr>\n",
       "    <tr>\n",
       "      <th>1</th>\n",
       "      <td>Cafe Tres Coracoes S/A</td>\n",
       "      <td>https://www.dnb.com/business-directory/company...</td>\n",
       "      <td>Santa Luzia, Minas Gerais,\\nBrazil</td>\n",
       "      <td>$271.06M</td>\n",
       "    </tr>\n",
       "    <tr>\n",
       "      <th>2</th>\n",
       "      <td>COOPERATIVA DOS CAFEICULTORES DA ZONA DE TRES ...</td>\n",
       "      <td>https://www.dnb.com/business-directory/company...</td>\n",
       "      <td>Três Pontas, Minas Gerais,\\nBrazil</td>\n",
       "      <td>$207.52M</td>\n",
       "    </tr>\n",
       "    <tr>\n",
       "      <th>3</th>\n",
       "      <td>Companhia Cacique de Café Solúvel</td>\n",
       "      <td>https://www.dnb.com/business-directory/company...</td>\n",
       "      <td>Londrina, Parana,\\nBrazil</td>\n",
       "      <td>$198.58M</td>\n",
       "    </tr>\n",
       "    <tr>\n",
       "      <th>4</th>\n",
       "      <td>Cia Iguacu de Cafe Soluvel</td>\n",
       "      <td>https://www.dnb.com/business-directory/company...</td>\n",
       "      <td>Cornelio Procopio, Parana,\\nBrazil</td>\n",
       "      <td>$138.02M</td>\n",
       "    </tr>\n",
       "  </tbody>\n",
       "</table>\n",
       "</div>"
      ],
      "text/plain": [
       "                                        empresa_nome  \\\n",
       "0                        Tres Coracoes Alimentos S/A   \n",
       "1                             Cafe Tres Coracoes S/A   \n",
       "2  COOPERATIVA DOS CAFEICULTORES DA ZONA DE TRES ...   \n",
       "3                  Companhia Cacique de Café Solúvel   \n",
       "4                         Cia Iguacu de Cafe Soluvel   \n",
       "\n",
       "                                        empresa_href  \\\n",
       "0  https://www.dnb.com/business-directory/company...   \n",
       "1  https://www.dnb.com/business-directory/company...   \n",
       "2  https://www.dnb.com/business-directory/company...   \n",
       "3  https://www.dnb.com/business-directory/company...   \n",
       "4  https://www.dnb.com/business-directory/company...   \n",
       "\n",
       "                                local   receita  \n",
       "0             Eusebio, Ceara,\\nBrazil  $677.42M  \n",
       "1  Santa Luzia, Minas Gerais,\\nBrazil  $271.06M  \n",
       "2  Três Pontas, Minas Gerais,\\nBrazil  $207.52M  \n",
       "3           Londrina, Parana,\\nBrazil  $198.58M  \n",
       "4  Cornelio Procopio, Parana,\\nBrazil  $138.02M  "
      ]
     },
     "execution_count": 19,
     "metadata": {},
     "output_type": "execute_result"
    }
   ],
   "source": [
    "df = pd.DataFrame(regs_data)\n",
    "df.head()"
   ]
  },
  {
   "cell_type": "code",
   "execution_count": 20,
   "id": "turkish-container",
   "metadata": {},
   "outputs": [
    {
     "data": {
      "text/plain": [
       "(1000, 4)"
      ]
     },
     "execution_count": 20,
     "metadata": {},
     "output_type": "execute_result"
    }
   ],
   "source": [
    "df.shape"
   ]
  },
  {
   "cell_type": "code",
   "execution_count": 36,
   "id": "pacific-arctic",
   "metadata": {},
   "outputs": [
    {
     "data": {
      "text/html": [
       "<div>\n",
       "<style scoped>\n",
       "    .dataframe tbody tr th:only-of-type {\n",
       "        vertical-align: middle;\n",
       "    }\n",
       "\n",
       "    .dataframe tbody tr th {\n",
       "        vertical-align: top;\n",
       "    }\n",
       "\n",
       "    .dataframe thead th {\n",
       "        text-align: right;\n",
       "    }\n",
       "</style>\n",
       "<table border=\"1\" class=\"dataframe\">\n",
       "  <thead>\n",
       "    <tr style=\"text-align: right;\">\n",
       "      <th></th>\n",
       "      <th>empresa_nome</th>\n",
       "      <th>receita_milhao</th>\n",
       "      <th>cidade</th>\n",
       "      <th>uf</th>\n",
       "    </tr>\n",
       "  </thead>\n",
       "  <tbody>\n",
       "    <tr>\n",
       "      <th>0</th>\n",
       "      <td>Tres Coracoes Alimentos S/A</td>\n",
       "      <td>677.42</td>\n",
       "      <td>Eusebio</td>\n",
       "      <td>Ceara</td>\n",
       "    </tr>\n",
       "    <tr>\n",
       "      <th>1</th>\n",
       "      <td>Cafe Tres Coracoes S/A</td>\n",
       "      <td>271.06</td>\n",
       "      <td>Santa Luzia</td>\n",
       "      <td>Minas Gerais</td>\n",
       "    </tr>\n",
       "    <tr>\n",
       "      <th>2</th>\n",
       "      <td>Cooperativa Dos Cafeicultores Da Zona De Tres ...</td>\n",
       "      <td>207.52</td>\n",
       "      <td>Três Pontas</td>\n",
       "      <td>Minas Gerais</td>\n",
       "    </tr>\n",
       "    <tr>\n",
       "      <th>3</th>\n",
       "      <td>Companhia Cacique De Café Solúvel</td>\n",
       "      <td>198.58</td>\n",
       "      <td>Londrina</td>\n",
       "      <td>Parana</td>\n",
       "    </tr>\n",
       "    <tr>\n",
       "      <th>4</th>\n",
       "      <td>Cia Iguacu De Cafe Soluvel</td>\n",
       "      <td>138.02</td>\n",
       "      <td>Cornelio Procopio</td>\n",
       "      <td>Parana</td>\n",
       "    </tr>\n",
       "    <tr>\n",
       "      <th>...</th>\n",
       "      <td>...</td>\n",
       "      <td>...</td>\n",
       "      <td>...</td>\n",
       "      <td>...</td>\n",
       "    </tr>\n",
       "    <tr>\n",
       "      <th>995</th>\n",
       "      <td>Comercial Cereais Orgulho De Minas Ltda</td>\n",
       "      <td>0.43</td>\n",
       "      <td>Patos De Minas</td>\n",
       "      <td>Minas Gerais</td>\n",
       "    </tr>\n",
       "    <tr>\n",
       "      <th>996</th>\n",
       "      <td>Comercio Torrefacao E Moagem De Cafe Colnago Ltda</td>\n",
       "      <td>0.43</td>\n",
       "      <td>Anhumas</td>\n",
       "      <td>Sao Paulo</td>\n",
       "    </tr>\n",
       "    <tr>\n",
       "      <th>997</th>\n",
       "      <td>Cafe Cinco Estrelas Industria E Comercio Ltda</td>\n",
       "      <td>0.43</td>\n",
       "      <td>Sao Pedro Dos Ferros</td>\n",
       "      <td>Minas Gerais</td>\n",
       "    </tr>\n",
       "    <tr>\n",
       "      <th>998</th>\n",
       "      <td>Cafeeira Cassanho Industria E Comercio Ltda</td>\n",
       "      <td>0.43</td>\n",
       "      <td>Piraju</td>\n",
       "      <td>Sao Paulo</td>\n",
       "    </tr>\n",
       "    <tr>\n",
       "      <th>999</th>\n",
       "      <td>Sabor Rural Agronegocio Ltda</td>\n",
       "      <td>0.43</td>\n",
       "      <td>Itanhomi</td>\n",
       "      <td>Minas Gerais</td>\n",
       "    </tr>\n",
       "  </tbody>\n",
       "</table>\n",
       "<p>1000 rows × 4 columns</p>\n",
       "</div>"
      ],
      "text/plain": [
       "                                          empresa_nome  receita_milhao  \\\n",
       "0                          Tres Coracoes Alimentos S/A          677.42   \n",
       "1                               Cafe Tres Coracoes S/A          271.06   \n",
       "2    Cooperativa Dos Cafeicultores Da Zona De Tres ...          207.52   \n",
       "3                    Companhia Cacique De Café Solúvel          198.58   \n",
       "4                           Cia Iguacu De Cafe Soluvel          138.02   \n",
       "..                                                 ...             ...   \n",
       "995            Comercial Cereais Orgulho De Minas Ltda            0.43   \n",
       "996  Comercio Torrefacao E Moagem De Cafe Colnago Ltda            0.43   \n",
       "997      Cafe Cinco Estrelas Industria E Comercio Ltda            0.43   \n",
       "998        Cafeeira Cassanho Industria E Comercio Ltda            0.43   \n",
       "999                       Sabor Rural Agronegocio Ltda            0.43   \n",
       "\n",
       "                   cidade            uf  \n",
       "0                 Eusebio         Ceara  \n",
       "1             Santa Luzia  Minas Gerais  \n",
       "2             Três Pontas  Minas Gerais  \n",
       "3                Londrina        Parana  \n",
       "4       Cornelio Procopio        Parana  \n",
       "..                    ...           ...  \n",
       "995        Patos De Minas  Minas Gerais  \n",
       "996               Anhumas     Sao Paulo  \n",
       "997  Sao Pedro Dos Ferros  Minas Gerais  \n",
       "998                Piraju     Sao Paulo  \n",
       "999              Itanhomi  Minas Gerais  \n",
       "\n",
       "[1000 rows x 4 columns]"
      ]
     },
     "execution_count": 36,
     "metadata": {},
     "output_type": "execute_result"
    }
   ],
   "source": [
    "df['receita_milhao'] = df['receita'].str.strip('$|M').astype('float')\n",
    "df['cidade'] = df['local'].str.split(',').apply(lambda x: x[0]).str.strip()\n",
    "df['uf'] = df['local'].str.split(',').apply(lambda x: x[1]).str.strip()\n",
    "df['empresa_nome'] = df['empresa_nome'].str.title()\n",
    "df[['empresa_nome', 'receita_milhao', 'cidade', 'uf']]"
   ]
  },
  {
   "cell_type": "code",
   "execution_count": 40,
   "id": "opposite-gazette",
   "metadata": {},
   "outputs": [
    {
     "data": {
      "text/plain": [
       "uf\n",
       "Minas Gerais           831.60\n",
       "Ceara                  701.09\n",
       "Parana                 428.65\n",
       "Sao Paulo              356.36\n",
       "Espirito Santo         115.51\n",
       "Sergipe                 72.02\n",
       "Bahia                   56.65\n",
       "Rio De Janeiro          49.83\n",
       "Pernambuco              42.54\n",
       "Goias                   41.93\n",
       "Distrito Federal        24.17\n",
       "Rondonia                17.76\n",
       "Mato Grosso             16.49\n",
       "Mato Grosso Do Sul      13.00\n",
       "Maranhao                10.61\n",
       "Santa Catarina           8.32\n",
       "Acre                     5.99\n",
       "Para                     5.88\n",
       "Amazonas                 4.05\n",
       "Rio Grande Do Sul        3.99\n",
       "Amapa                    1.51\n",
       "Rio Grande Do Norte      1.46\n",
       "Piaui                    0.86\n",
       "Alagoas                  0.86\n",
       "Paraiba                  0.54\n",
       "Tocantins                0.43\n",
       "Name: receita_milhao, dtype: float64"
      ]
     },
     "execution_count": 40,
     "metadata": {},
     "output_type": "execute_result"
    }
   ],
   "source": [
    "df.groupby('uf')['receita_milhao'].sum().sort_values(ascending=False)"
   ]
  }
 ],
 "metadata": {
  "kernelspec": {
   "display_name": "crawler",
   "language": "python",
   "name": "crawler"
  },
  "language_info": {
   "codemirror_mode": {
    "name": "ipython",
    "version": 3
   },
   "file_extension": ".py",
   "mimetype": "text/x-python",
   "name": "python",
   "nbconvert_exporter": "python",
   "pygments_lexer": "ipython3",
   "version": "3.7.9"
  }
 },
 "nbformat": 4,
 "nbformat_minor": 5
}
